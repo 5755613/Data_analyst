{
  "nbformat": 4,
  "nbformat_minor": 0,
  "metadata": {
    "colab": {
      "provenance": [],
      "include_colab_link": true
    },
    "kernelspec": {
      "name": "python3",
      "display_name": "Python 3"
    },
    "language_info": {
      "name": "python"
    }
  },
  "cells": [
    {
      "cell_type": "markdown",
      "metadata": {
        "id": "view-in-github",
        "colab_type": "text"
      },
      "source": [
        "<a href=\"https://colab.research.google.com/github/5755613/Data_analyst/blob/main/Copy_of_Review_core_concepts.ipynb\" target=\"_parent\"><img src=\"https://colab.research.google.com/assets/colab-badge.svg\" alt=\"Open In Colab\"/></a>"
      ]
    },
    {
      "cell_type": "markdown",
      "source": [
        "# Data Types and Use Cases:\n",
        "\n",
        "**int:** Stands for \"integer\". Represents whole numbers, both positive and negative.\n",
        "Use Case: Counting items, age, scores in games, etc.\n",
        "\n",
        "**str:** Stands for \"string\". Represents sequences of characters.\n",
        "Use Case: Names, titles, messages, and virtually any kind of text in a program.\n",
        "\n",
        "**bool:** Represents a Boolean value, which can be either True or False.\n",
        "Use Case: Flags, conditions, or any binary decisions (yes/no, on/off).\n",
        "\n",
        "**float:** Represents real numbers (i.e., numbers with decimals).\n",
        "Use Case: Measurements, currency with cents, GPA, etc.\n",
        "\n",
        "# Importance of Type Casting:\n",
        "\n",
        "Not all data we receive or process has the desired data type. For example, all inputs taken using the input() function in Python are strings by default.\n",
        "Type casting is the method to convert a variable value from one type to another.\n",
        "It's essential for tasks like mathematical operations where a string won't work.\n",
        "Python provides built-in functions like int(), str(), bool(), and float() for type casting.\n",
        "\n",
        "# Practical Exercise:\n",
        "Scenario: Create a simple program that asks the user for their age (int), name (str), height in meters (float), and if they are a student (bool). Display the collected data back to the user."
      ],
      "metadata": {
        "id": "Wfrmo2Ldzgxi"
      }
    },
    {
      "cell_type": "code",
      "source": [
        "name = input(\"Your name: \")\n",
        "age = int(input(\"Your age: \"))  # Convert the input to an integer\n",
        "height = float(input(\"Your height (in meters): \"))  # Convert the input to a float\n",
        "student = input(\"Are you a student (yes/no): \")\n",
        "\n",
        "print(\"Name:\", name)\n",
        "print(\"Age:\", age)\n",
        "print(\"Height:\", height)\n",
        "print(\"Student:\", student)\n"
      ],
      "metadata": {
        "id": "WaUwpFd5zglC",
        "outputId": "d24bd7e2-bb14-4d36-ad59-d409824c7761",
        "colab": {
          "base_uri": "https://localhost:8080/"
        }
      },
      "execution_count": null,
      "outputs": [
        {
          "output_type": "stream",
          "name": "stdout",
          "text": [
            "Your name: luay\n",
            "Your age: 40\n",
            "Your height (in meters): 189\n",
            "Are you a student (yes/no): yes\n",
            "Name: luay\n",
            "Age: 40\n",
            "Height: 189.0\n",
            "Student: yes\n"
          ]
        }
      ]
    },
    {
      "cell_type": "markdown",
      "source": [
        "# **Lists and Their Methods:**\n",
        "\n",
        "List: An ordered collection of items, which can be of any type. Lists are mutable, meaning the items in a list can be changed after the list is created.\n",
        "\n",
        "\n",
        "\n",
        "```\n",
        "movies = ['Avatar', 'Titanic', 'Inception']\n",
        "```\n",
        "\n",
        "Common methods:\n",
        "\n",
        "* append(item): Add an item to the end of the list.\n",
        "* insert(index, item): Insert an item at a specific position.\n",
        "* remove(item): Remove a specified item.\n",
        "* pop(index): Remove and return the item at a specific position.\n",
        "* sort(): Sort the items.\n",
        "* reverse(): Reverse the items.\n",
        "\n",
        "\n"
      ],
      "metadata": {
        "id": "KUqwIWzsnKZ1"
      }
    },
    {
      "cell_type": "code",
      "source": [
        "movies = ['Avatar', 'Titanic']\n",
        "movies.append('Inception')\n",
        "movies.insert(1, 'The Matrix')\n",
        "print(\"After append and insert:\", movies)\n",
        "movies.remove('Avatar')\n",
        "print(\"After remove:\", movies)\n",
        "last_movie = movies.pop()\n",
        "print(\"After pop:\", movies, \"\\nLast movie:\", last_movie)"
      ],
      "metadata": {
        "id": "AhxJolayoeGH",
        "colab": {
          "base_uri": "https://localhost:8080/"
        },
        "outputId": "6f7cb492-2f8f-4c3d-87a8-6884be308961"
      },
      "execution_count": null,
      "outputs": [
        {
          "output_type": "stream",
          "name": "stdout",
          "text": [
            "After append and insert: ['Avatar', 'The Matrix', 'Titanic', 'Inception']\n",
            "After remove: ['The Matrix', 'Titanic', 'Inception']\n",
            "After pop: ['The Matrix', 'Titanic'] \n",
            "Last movie: Inception\n"
          ]
        }
      ]
    },
    {
      "cell_type": "markdown",
      "source": [
        "# **Loops:**\n",
        "Loops are used to execute a block of code multiple times. This is especially useful for tasks like processing items in a list one by one.\n",
        "\n",
        "**for loop:** Typically used when you know beforehand how many times you want to execute a statement or a block of statements.\n",
        "\n",
        "**while loop:** Repeatedly executes a target statement as long as a given condition remains true."
      ],
      "metadata": {
        "id": "nvRZ9IQwoQCf"
      }
    },
    {
      "cell_type": "code",
      "execution_count": null,
      "metadata": {
        "colab": {
          "base_uri": "https://localhost:8080/"
        },
        "id": "c-5YkmKqzNhi",
        "outputId": "1563150e-2333-4397-f0df-9eb26cc39e53"
      },
      "outputs": [
        {
          "output_type": "stream",
          "name": "stdout",
          "text": [
            "Hello, Alice! Welcome to the class.\n",
            "Hello, Bob! Welcome to the class.\n",
            "Hello, Charlie! Welcome to the class.\n",
            "Hello, David! Welcome to the class.\n",
            "Hello, Eve! Welcome to the class.\n"
          ]
        }
      ],
      "source": [
        "#lets greet every studen from our class.\n",
        "student_names = [\"Alice\", \"Bob\", \"Charlie\", \"David\", \"Eve\"]\n",
        "\n",
        "for name in student_names:\n",
        "    print(f\"Hello, {name}! Welcome to the class.\")"
      ]
    },
    {
      "cell_type": "code",
      "source": [
        "student_names = [\"Alice\", \"Bob\", \"Charlie\", \"David\", \"Eve\", \"Ammar\"]\n",
        "\n",
        "for name in student_names:\n",
        "    while name[0] == \"A\":\n",
        "        print(name)\n",
        "        break"
      ],
      "metadata": {
        "id": "NpjSSZp4EFVz",
        "outputId": "aea45db7-5839-4c28-8893-afb2e40b0441",
        "colab": {
          "base_uri": "https://localhost:8080/"
        }
      },
      "execution_count": null,
      "outputs": [
        {
          "output_type": "stream",
          "name": "stdout",
          "text": [
            "Alice\n",
            "Ammar\n"
          ]
        }
      ]
    },
    {
      "cell_type": "markdown",
      "source": [
        "## **While loop with hashing:**\n",
        "Scenario: Suppose you're creating a program where the user must enter a valid password to continue. For security reasons, instead of storing the plaintext password, you store its hash. The program should compare the hash of the input password to the stored hash to determine its validity."
      ],
      "metadata": {
        "id": "f70M4mpiqiwX"
      }
    },
    {
      "cell_type": "code",
      "source": [
        "import hashlib\n",
        "\n",
        "def generate_hash(password):\n",
        "    return hashlib.sha256(password.encode()).hexdigest()\n",
        "\n",
        "\n",
        "correct_password_hash = \"aafdaad24439ef753e269f98ef4d7809a8c413116a35a2da9ef8716a68558d13\"\n",
        "\n",
        "while input_password_hash != correct_password_hash:\n",
        "    input_password = input(\"Please enter the correct password: \")\n",
        "    input_password_hash = generate_hash(input_password)\n",
        "\n",
        "print(\"Password accepted!\")\n"
      ],
      "metadata": {
        "colab": {
          "base_uri": "https://localhost:8080/"
        },
        "id": "p0fbCsZPpQpZ",
        "outputId": "9e80bd2d-d36c-4422-a3c0-ca3a14582e74"
      },
      "execution_count": null,
      "outputs": [
        {
          "output_type": "stream",
          "name": "stdout",
          "text": [
            "Please enter the correct password: redi\n",
            "Password accepted!\n"
          ]
        }
      ]
    },
    {
      "cell_type": "markdown",
      "source": [
        "# **Conditionals (if/else statements):**\n",
        "\n",
        "Definition: Conditionals allow for decision-making in programming. Based on a condition's truthiness, different blocks of code will execute.\n",
        "\n",
        "\n",
        "\n",
        "```\n",
        "# Basic structure\n",
        "if condition:\n",
        "    # code to execute if condition is True\n",
        "elif another_condition:  # Optional\n",
        "    # code to execute if another_condition is True\n",
        "else:  # Optional\n",
        "    # code to execute if all above conditions are False\n",
        "```\n",
        "\n",
        "# Example:"
      ],
      "metadata": {
        "id": "WTubk8nerMO0"
      }
    },
    {
      "cell_type": "code",
      "source": [
        "word = \"happy\"\n",
        "if word in [\"happy\", \"joyful\"]:\n",
        "    print(\"Positive mood!\")\n",
        "elif word in [\"sad\", \"gloomy\"]:\n",
        "    print(\"Negative mood!\")\n",
        "else:\n",
        "    print(\"Neutral or unknown mood\")"
      ],
      "metadata": {
        "id": "F1icqOMqsXoB"
      },
      "execution_count": null,
      "outputs": []
    },
    {
      "cell_type": "markdown",
      "source": [
        "# **Functions:**\n",
        "\n",
        "Definition: Functions are blocks of reusable code. They execute when called upon and can accept inputs (parameters) and return outputs.\n",
        "\n",
        "\n",
        "\n",
        "```\n",
        "# Basic structure\n",
        "def function_name(parameters):\n",
        "    # Code to execute\n",
        "    return value  # Optional\n",
        "```\n",
        "\n",
        "#Scenario:\n",
        "\n",
        "We want to determine the mood of a user based on a keyword they provide about their day.\n",
        "\n",
        "Implementation:"
      ],
      "metadata": {
        "id": "wBgCVQyUssEe"
      }
    },
    {
      "cell_type": "code",
      "source": [
        "def determine_mood(keyword):\n",
        "    if keyword in [\"happy\", \"joyful\", \"ecstatic\", \"pleased\"]:\n",
        "        return \"It sounds like you had a good day!\"\n",
        "    elif keyword in [\"sad\", \"down\", \"unhappy\", \"gloomy\"]:\n",
        "        return \"I'm sorry to hear that. I hope tomorrow is better for you.\"\n",
        "    elif keyword in [\"tired\", \"exhausted\", \"drained\"]:\n",
        "        return \"Make sure to get some rest!\"\n",
        "    else:\n",
        "        return \"I'm not sure about that mood, but I'm here for you!\"\n",
        "\n",
        "# Test the function with different keywords\n",
        "test_keywords = [\"happy\", \"sad\", \"tired\", \"confused\"]\n",
        "\n",
        "for word in test_keywords:\n",
        "    print(f\"Keyword: {word} -> Response: {determine_mood(word)}\")\n"
      ],
      "metadata": {
        "colab": {
          "base_uri": "https://localhost:8080/"
        },
        "id": "GhKmy1nWs2n4",
        "outputId": "e1b4b274-8102-4400-b301-609877a92568"
      },
      "execution_count": null,
      "outputs": [
        {
          "output_type": "stream",
          "name": "stdout",
          "text": [
            "Keyword: happy -> Response: It sounds like you had a good day!\n",
            "Keyword: sad -> Response: I'm sorry to hear that. I hope tomorrow is better for you.\n",
            "Keyword: tired -> Response: Make sure to get some rest!\n",
            "Keyword: confused -> Response: I'm not sure about that mood, but I'm here for you!\n"
          ]
        }
      ]
    },
    {
      "cell_type": "markdown",
      "source": [
        "# **Dictionaries:**\n",
        "\n",
        "Definition: Dictionaries are mutable, unordered collections of items. Each item is stored as a key-value pair.\n",
        "\n",
        "\n",
        "\n",
        "```\n",
        "# Example of a dictionary\n",
        "student = {\n",
        "    \"name\": \"John\",\n",
        "    \"age\": 20,\n",
        "    \"grades\": [90, 85, 88]\n",
        "}\n",
        "```\n",
        "\n",
        "Comparison with Lists:\n",
        "\n",
        "* Lists are ordered sequences of items, accessed by their index.\n",
        "* Dictionaries store data in key-value pairs, accessed by the key.\n",
        " Keys in dictionaries must be unique.\n",
        "# **Sets:**\n",
        "\n",
        "Definition: Sets are an unordered collection of unique items. They are mutable and don't allow duplicates.\n",
        "\n",
        "\n",
        "\n",
        "```\n",
        "# Example of a set\n",
        "fruits = {\"apple\", \"banana\", \"cherry\", \"apple\"}\n",
        "\n",
        "```\n",
        "\n",
        "Uniqueness:\n",
        "\n",
        "A set automatically removes any duplicate values.\n",
        "They are useful for checking membership and ensuring no repetitions."
      ],
      "metadata": {
        "id": "Rrr8pq_Jtb0R"
      }
    },
    {
      "cell_type": "markdown",
      "source": [
        "# **Excercise: Contact Manager**\n",
        "\n",
        "Objective:\n",
        "You have be tasked with developing a personal contact manager. This program will allow users to manage their contacts, offering functionalities such as adding new contacts, viewing existing ones, and deleting contacts when necessary.\n",
        "\n",
        "Overview:\n",
        "Contacts will be stored as dictionaries within a list. Each contact dictionary can hold details such as name, phone number, email, and address.\n",
        "\n",
        "For instance, a single contact might look like this:\n",
        "\n",
        "\n",
        "\n",
        "```\n",
        "contact = {\n",
        "    \"name\": \"Jane Doe\",\n",
        "    \"phone\": \"123-456-7890\",\n",
        "    \"email\": \"jane.doe@example.com\",\n",
        "    \"address\": \"123 Main St, Anytown\"\n",
        "}\n",
        "```\n",
        "\n",
        "Features:\n",
        "* **Add a New Contact:**\n",
        "Ask the user for contact details (name, phone, email, address).\n",
        "Create a dictionary with the provided details and append it to the list of contacts.\n",
        "* **View All Contacts:** Display all contacts stored in the list, using a loop to iterate through and print each dictionary.\n",
        "* **Search for a Contact:**\n",
        "Allow users to search for a contact by name and display their details.\n",
        "* **Delete a Contact:** Ask the user for the name of the contact they wish to delete.\n",
        "Use a loop and conditionals to find the contact and remove it from the list.\n",
        "\n"
      ],
      "metadata": {
        "id": "SMfcWdN1uDjs"
      }
    },
    {
      "cell_type": "markdown",
      "source": [
        "# **Skeleton of the program**"
      ],
      "metadata": {
        "id": "zdUMz0XqwE4r"
      }
    },
    {
      "cell_type": "code",
      "source": [],
      "metadata": {
        "id": "BZ2Rv7ErB2aL"
      },
      "execution_count": null,
      "outputs": []
    }
  ]
}